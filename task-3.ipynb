{
 "cells": [
  {
   "cell_type": "markdown",
   "id": "5a77eb37",
   "metadata": {},
   "source": [
    "## TASK-3"
   ]
  },
  {
   "cell_type": "code",
   "execution_count": null,
   "id": "93508650",
   "metadata": {},
   "outputs": [],
   "source": [
    "import csv\n",
    "import time\n",
    "import pandas as pd\n",
    "import re\n",
    "from selenium import webdriver\n",
    "from selenium.webdriver.common.by import By\n",
    "from selenium.webdriver.chrome.options import Options\n",
    "from selenium.common.exceptions import NoSuchElementException\n"
   ]
  },
  {
   "cell_type": "code",
   "execution_count": null,
   "id": "3cdfdb01",
   "metadata": {},
   "outputs": [
    {
     "name": "stdout",
     "output_type": "stream",
     "text": [
      "Scraping done and data saved to extracted_company_info.csv\n"
     ]
    }
   ],
   "source": [
    "# --- Function to extract data for 4th structure from a page ---\n",
    "def extract_company_info(driver):\n",
    "    data = {}\n",
    "    \n",
    "    def safe_find_text(by, selector):\n",
    "        try:\n",
    "            return driver.find_element(by, selector).text.strip()\n",
    "        except NoSuchElementException:\n",
    "            return \"\"\n",
    "    \n",
    "    # Extract all key-value blocks inside the container\n",
    "    # Blocks with label and value classes\n",
    "    \n",
    "    blocks = driver.find_elements(By.CSS_SELECTOR, \"div.block-QCJM7wcY\")\n",
    "    for block in blocks:\n",
    "        try:\n",
    "            label = block.find_element(By.CSS_SELECTOR, \"div.label-QCJM7wcY\").text.strip()\n",
    "            # The value could be inside an <a> or <div> with class value-QCJM7wcY\n",
    "            try:\n",
    "                value = block.find_element(By.CSS_SELECTOR, \"a .value-QCJM7wcY\").text.strip()\n",
    "            except NoSuchElementException:\n",
    "                value = block.find_element(By.CSS_SELECTOR, \"div.value-QCJM7wcY\").text.strip()\n",
    "            \n",
    "            data[label] = value\n",
    "        except NoSuchElementException:\n",
    "            continue\n",
    "    \n",
    "    # Extract the about/description paragraph (last div with content-H16icEW0)\n",
    "    try:\n",
    "        description = driver.find_element(By.CSS_SELECTOR, \"div.container-H16icEW0 div.content-H16icEW0 span\").text.strip()\n",
    "        data['Description'] = description\n",
    "    except NoSuchElementException:\n",
    "        data['Description'] = \"\"\n",
    "    \n",
    "    return data\n",
    "\n",
    "# --- Main scraping logic ---\n",
    "def main():\n",
    "    # Chrome options to run headless (optional)\n",
    "    options = Options()\n",
    "    # options.add_argument(\"--headless\")  # Uncomment if you want no browser UI\n",
    "    \n",
    "    driver = webdriver.Chrome(options=options)\n",
    "\n",
    "    # Read links from CSV file (symbol_link.csv)\n",
    "    links = []\n",
    "    with open(\"symbol_link.csv\", \"r\", newline=\"\", encoding=\"utf-8\") as file:\n",
    "        reader = csv.reader(file)\n",
    "        # Assuming the CSV has links in first column; skip header if any\n",
    "        for row in reader:\n",
    "            if row and \"http\" in row[0]:\n",
    "                links.append(row[0])\n",
    "\n",
    "    all_data = []\n",
    "    \n",
    "    for link in links:\n",
    "        print(f\"Processing: {link}\")\n",
    "        driver.get(link)\n",
    "        time.sleep(3)  # Wait for page load; adjust as needed\n",
    "\n",
    "        company_data = extract_company_info(driver)\n",
    "        company_data['URL'] = link  # Save source link for reference\n",
    "        all_data.append(company_data)\n",
    "\n",
    "    driver.quit()\n",
    "\n",
    "    # Save all extracted data to CSV\n",
    "    df = pd.DataFrame(all_data)\n",
    "    df.to_csv(\"extracted_company_info.csv\", index=False, encoding=\"utf-8\")\n",
    "    print(\"Scraping done and data saved to extracted_company_info.csv\")\n",
    "\n",
    "if __name__ == \"__main__\":\n",
    "    main()\n"
   ]
  },
  {
   "cell_type": "code",
   "execution_count": 5,
   "id": "184f3ddd",
   "metadata": {},
   "outputs": [
    {
     "name": "stdout",
     "output_type": "stream",
     "text": [
      "['NYSE', 'NYSE', 'NASDAQ', 'NYSE', 'NASDAQ', 'NYSE', 'NASDAQ', 'NYSE', 'NASDAQ', 'NASDAQ', 'NYSE', 'NASDAQ', 'NASDAQ', 'NYSE', 'NASDAQ', 'NYSE', 'NYSE', 'NASDAQ', 'NASDAQ', 'NYSE', 'NASDAQ', 'NASDAQ', 'NYSE', 'NASDAQ', 'NASDAQ', 'NASDAQ', 'NASDAQ', 'NYSE', 'NASDAQ', 'NASDAQ', 'NASDAQ', 'NASDAQ', 'NYSE', 'NYSE', 'NASDAQ', 'NYSE', 'AMEX', 'NASDAQ', 'NYSE', 'NASDAQ', 'NASDAQ', 'NASDAQ', 'NYSE', 'NASDAQ', 'NYSE', 'NASDAQ', 'NASDAQ', 'NASDAQ', 'NASDAQ', 'NASDAQ', 'NYSE', 'NASDAQ', 'NYSE', 'NASDAQ', 'NASDAQ', 'NASDAQ', 'NASDAQ', 'NASDAQ', 'NASDAQ', 'NASDAQ', 'NASDAQ', 'NASDAQ', 'AMEX', 'NYSE', 'NASDAQ', 'NASDAQ', 'NYSE', 'NASDAQ', 'NASDAQ', 'NASDAQ', 'NASDAQ', 'NASDAQ', 'NYSE', 'NASDAQ', 'NASDAQ', 'NYSE', 'NASDAQ', 'NASDAQ', 'NASDAQ', 'NASDAQ', 'NYSE', 'NASDAQ', 'NASDAQ', 'NASDAQ', 'NASDAQ', 'NASDAQ', 'NASDAQ', 'NYSE', 'NASDAQ', 'NASDAQ', 'NASDAQ', 'NASDAQ', 'NASDAQ', 'NASDAQ', 'NYSE', 'AMEX', 'NASDAQ', 'NYSE', 'NASDAQ', 'NYSE']\n",
      "['A', 'AA', 'AACB', 'AACT', 'AAL', 'AAM', 'AAME', 'AAMI', 'AAOI', 'AAON', 'AAP', 'AAPL', 'AARD', 'AB', 'ABAT', 'ABBV', 'ABCB', 'ABCL', 'ABEO', 'ABG', 'ABL', 'ABLV', 'ABM', 'ABNB', 'ABOS', 'ABP', 'ABSI', 'ABT', 'ABTS', 'ABUS', 'ABVC', 'ABVE', 'AC', 'ACA', 'ACAD', 'ACCO', 'ACCS', 'ACDC', 'ACEL', 'ACET', 'ACGL', 'ACHC', 'ACHR', 'ACHV', 'ACI', 'ACIC', 'ACIU', 'ACIW', 'ACLS', 'ACLX', 'ACM', 'ACMR', 'ACN', 'ACNB', 'ACNT', 'ACOG', 'ACON', 'ACRS', 'ACRV', 'ACT', 'ACTG', 'ACTU', 'ACU', 'ACVA', 'ACXP', 'ADBE', 'ADCT', 'ADD', 'ADEA', 'ADGM', 'ADI', 'ADIL', 'ADM', 'ADMA', 'ADN', 'ADNT', 'ADP', 'ADPT', 'ADSE', 'ADSK', 'ADT', 'ADTN', 'ADTX', 'ADUS', 'ADV', 'ADVB', 'ADVM', 'AEE', 'AEHL', 'AEHR', 'AEI', 'AEIS', 'AEMD', 'AENT', 'AEO', 'AEON', 'AEP', 'AER', 'AERT', 'AES']\n"
     ]
    }
   ],
   "source": [
    "symbol_links_df = pd.read_csv(\"symbol_link.csv\")\n",
    "exchange_list = symbol_links_df[\"Exchange\"].tolist()\n",
    "link_list = symbol_links_df[\"Symbol\"].tolist()\n",
    "\n",
    "print(exchange_list)\n",
    "print(link_list)"
   ]
  },
  {
   "cell_type": "code",
   "execution_count": 11,
   "id": "dc50de19",
   "metadata": {},
   "outputs": [],
   "source": [
    "driver = webdriver.Chrome()\n"
   ]
  },
  {
   "cell_type": "code",
   "execution_count": 12,
   "id": "48fa767b",
   "metadata": {},
   "outputs": [
    {
     "name": "stdout",
     "output_type": "stream",
     "text": [
      "https://www.tradingview.com/symbols/NYSE-A/\n",
      "https://www.tradingview.com/symbols/NYSE-AA/\n",
      "https://www.tradingview.com/symbols/NASDAQ-AACB/\n",
      "[['In 4 days', 'Q2 2025', '1.26USD', '1.63BUSD', '30.94BUSD', '0.91%', '25.21', '4.37USD', '1.29BUSD', '6.51BUSD', '283.95M', '0.85', '17.9K', '200 1.10%', '363.69KUSD', '72.01KUSD', 'Health Technology', 'Health Technology', 'Medical Specialties', 'Medical Specialties', 'Padraig Mcdonnell', 'agilent.com', 'agilent.com', 'Santa Clara', '1999', 'BBG000C2V3D6', 'July 16', 'Q2 2025', '0.75USD', '2.96BUSD', '7.27BUSD', '1.41%', '8.28', '3.40USD', '60.00MUSD', '12.18BUSD', '256.77M', '1.86', '13.9K', '+300 +2.21%', '876.55KUSD', '4.32KUSD', 'Non-Energy Minerals', 'Non-Energy Minerals', 'Aluminum', 'Aluminum', 'William F. Oplinger', 'alcoa.com', 'alcoa.com', 'Pittsburgh', '1886', 'BBG00B3T3HD3', '295.18MUSD', '', '', '', '85.27KUSD', '0.00USD', '23.47M', '0.04', '1', '0.00USD', '85.27KUSD', 'Finance', 'Finance', 'Financial Conglomerates', 'Financial Conglomerates', 'Hong Boon Sim', 'artiuscapital.com', 'artiuscapital.com', 'New York', '2024', 'BBG01SK9X794'], ['In 4 days', 'Q2 2025', '1.26USD', '1.63BUSD', '30.94BUSD', '0.91%', '25.21', '4.37USD', '1.29BUSD', '6.51BUSD', '283.95M', '0.85', '17.9K', '200 1.10%', '363.69KUSD', '72.01KUSD', 'Health Technology', 'Health Technology', 'Medical Specialties', 'Medical Specialties', 'Padraig Mcdonnell', 'agilent.com', 'agilent.com', 'Santa Clara', '1999', 'BBG000C2V3D6', 'July 16', 'Q2 2025', '0.75USD', '2.96BUSD', '7.27BUSD', '1.41%', '8.28', '3.40USD', '60.00MUSD', '12.18BUSD', '256.77M', '1.86', '13.9K', '+300 +2.21%', '876.55KUSD', '4.32KUSD', 'Non-Energy Minerals', 'Non-Energy Minerals', 'Aluminum', 'Aluminum', 'William F. Oplinger', 'alcoa.com', 'alcoa.com', 'Pittsburgh', '1886', 'BBG00B3T3HD3', '295.18MUSD', '', '', '', '85.27KUSD', '0.00USD', '23.47M', '0.04', '1', '0.00USD', '85.27KUSD', 'Finance', 'Finance', 'Financial Conglomerates', 'Financial Conglomerates', 'Hong Boon Sim', 'artiuscapital.com', 'artiuscapital.com', 'New York', '2024', 'BBG01SK9X794'], ['In 4 days', 'Q2 2025', '1.26USD', '1.63BUSD', '30.94BUSD', '0.91%', '25.21', '4.37USD', '1.29BUSD', '6.51BUSD', '283.95M', '0.85', '17.9K', '200 1.10%', '363.69KUSD', '72.01KUSD', 'Health Technology', 'Health Technology', 'Medical Specialties', 'Medical Specialties', 'Padraig Mcdonnell', 'agilent.com', 'agilent.com', 'Santa Clara', '1999', 'BBG000C2V3D6', 'July 16', 'Q2 2025', '0.75USD', '2.96BUSD', '7.27BUSD', '1.41%', '8.28', '3.40USD', '60.00MUSD', '12.18BUSD', '256.77M', '1.86', '13.9K', '+300 +2.21%', '876.55KUSD', '4.32KUSD', 'Non-Energy Minerals', 'Non-Energy Minerals', 'Aluminum', 'Aluminum', 'William F. Oplinger', 'alcoa.com', 'alcoa.com', 'Pittsburgh', '1886', 'BBG00B3T3HD3', '295.18MUSD', '', '', '', '85.27KUSD', '0.00USD', '23.47M', '0.04', '1', '0.00USD', '85.27KUSD', 'Finance', 'Finance', 'Financial Conglomerates', 'Financial Conglomerates', 'Hong Boon Sim', 'artiuscapital.com', 'artiuscapital.com', 'New York', '2024', 'BBG01SK9X794'], ['In 4 days', 'Q2 2025', '1.26USD', '1.63BUSD', '30.94BUSD', '0.91%', '25.21', '4.37USD', '1.29BUSD', '6.51BUSD', '283.95M', '0.85', '17.9K', '200 1.10%', '363.69KUSD', '72.01KUSD', 'Health Technology', 'Health Technology', 'Medical Specialties', 'Medical Specialties', 'Padraig Mcdonnell', 'agilent.com', 'agilent.com', 'Santa Clara', '1999', 'BBG000C2V3D6', 'July 16', 'Q2 2025', '0.75USD', '2.96BUSD', '7.27BUSD', '1.41%', '8.28', '3.40USD', '60.00MUSD', '12.18BUSD', '256.77M', '1.86', '13.9K', '+300 +2.21%', '876.55KUSD', '4.32KUSD', 'Non-Energy Minerals', 'Non-Energy Minerals', 'Aluminum', 'Aluminum', 'William F. Oplinger', 'alcoa.com', 'alcoa.com', 'Pittsburgh', '1886', 'BBG00B3T3HD3', '295.18MUSD', '', '', '', '85.27KUSD', '0.00USD', '23.47M', '0.04', '1', '0.00USD', '85.27KUSD', 'Finance', 'Finance', 'Financial Conglomerates', 'Financial Conglomerates', 'Hong Boon Sim', 'artiuscapital.com', 'artiuscapital.com', 'New York', '2024', 'BBG01SK9X794'], ['In 4 days', 'Q2 2025', '1.26USD', '1.63BUSD', '30.94BUSD', '0.91%', '25.21', '4.37USD', '1.29BUSD', '6.51BUSD', '283.95M', '0.85', '17.9K', '200 1.10%', '363.69KUSD', '72.01KUSD', 'Health Technology', 'Health Technology', 'Medical Specialties', 'Medical Specialties', 'Padraig Mcdonnell', 'agilent.com', 'agilent.com', 'Santa Clara', '1999', 'BBG000C2V3D6', 'July 16', 'Q2 2025', '0.75USD', '2.96BUSD', '7.27BUSD', '1.41%', '8.28', '3.40USD', '60.00MUSD', '12.18BUSD', '256.77M', '1.86', '13.9K', '+300 +2.21%', '876.55KUSD', '4.32KUSD', 'Non-Energy Minerals', 'Non-Energy Minerals', 'Aluminum', 'Aluminum', 'William F. Oplinger', 'alcoa.com', 'alcoa.com', 'Pittsburgh', '1886', 'BBG00B3T3HD3', '295.18MUSD', '', '', '', '85.27KUSD', '0.00USD', '23.47M', '0.04', '1', '0.00USD', '85.27KUSD', 'Finance', 'Finance', 'Financial Conglomerates', 'Financial Conglomerates', 'Hong Boon Sim', 'artiuscapital.com', 'artiuscapital.com', 'New York', '2024', 'BBG01SK9X794'], ['In 4 days', 'Q2 2025', '1.26USD', '1.63BUSD', '30.94BUSD', '0.91%', '25.21', '4.37USD', '1.29BUSD', '6.51BUSD', '283.95M', '0.85', '17.9K', '200 1.10%', '363.69KUSD', '72.01KUSD', 'Health Technology', 'Health Technology', 'Medical Specialties', 'Medical Specialties', 'Padraig Mcdonnell', 'agilent.com', 'agilent.com', 'Santa Clara', '1999', 'BBG000C2V3D6', 'July 16', 'Q2 2025', '0.75USD', '2.96BUSD', '7.27BUSD', '1.41%', '8.28', '3.40USD', '60.00MUSD', '12.18BUSD', '256.77M', '1.86', '13.9K', '+300 +2.21%', '876.55KUSD', '4.32KUSD', 'Non-Energy Minerals', 'Non-Energy Minerals', 'Aluminum', 'Aluminum', 'William F. Oplinger', 'alcoa.com', 'alcoa.com', 'Pittsburgh', '1886', 'BBG00B3T3HD3', '295.18MUSD', '', '', '', '85.27KUSD', '0.00USD', '23.47M', '0.04', '1', '0.00USD', '85.27KUSD', 'Finance', 'Finance', 'Financial Conglomerates', 'Financial Conglomerates', 'Hong Boon Sim', 'artiuscapital.com', 'artiuscapital.com', 'New York', '2024', 'BBG01SK9X794'], ['In 4 days', 'Q2 2025', '1.26USD', '1.63BUSD', '30.94BUSD', '0.91%', '25.21', '4.37USD', '1.29BUSD', '6.51BUSD', '283.95M', '0.85', '17.9K', '200 1.10%', '363.69KUSD', '72.01KUSD', 'Health Technology', 'Health Technology', 'Medical Specialties', 'Medical Specialties', 'Padraig Mcdonnell', 'agilent.com', 'agilent.com', 'Santa Clara', '1999', 'BBG000C2V3D6', 'July 16', 'Q2 2025', '0.75USD', '2.96BUSD', '7.27BUSD', '1.41%', '8.28', '3.40USD', '60.00MUSD', '12.18BUSD', '256.77M', '1.86', '13.9K', '+300 +2.21%', '876.55KUSD', '4.32KUSD', 'Non-Energy Minerals', 'Non-Energy Minerals', 'Aluminum', 'Aluminum', 'William F. Oplinger', 'alcoa.com', 'alcoa.com', 'Pittsburgh', '1886', 'BBG00B3T3HD3', '295.18MUSD', '', '', '', '85.27KUSD', '0.00USD', '23.47M', '0.04', '1', '0.00USD', '85.27KUSD', 'Finance', 'Finance', 'Financial Conglomerates', 'Financial Conglomerates', 'Hong Boon Sim', 'artiuscapital.com', 'artiuscapital.com', 'New York', '2024', 'BBG01SK9X794'], ['In 4 days', 'Q2 2025', '1.26USD', '1.63BUSD', '30.94BUSD', '0.91%', '25.21', '4.37USD', '1.29BUSD', '6.51BUSD', '283.95M', '0.85', '17.9K', '200 1.10%', '363.69KUSD', '72.01KUSD', 'Health Technology', 'Health Technology', 'Medical Specialties', 'Medical Specialties', 'Padraig Mcdonnell', 'agilent.com', 'agilent.com', 'Santa Clara', '1999', 'BBG000C2V3D6', 'July 16', 'Q2 2025', '0.75USD', '2.96BUSD', '7.27BUSD', '1.41%', '8.28', '3.40USD', '60.00MUSD', '12.18BUSD', '256.77M', '1.86', '13.9K', '+300 +2.21%', '876.55KUSD', '4.32KUSD', 'Non-Energy Minerals', 'Non-Energy Minerals', 'Aluminum', 'Aluminum', 'William F. Oplinger', 'alcoa.com', 'alcoa.com', 'Pittsburgh', '1886', 'BBG00B3T3HD3', '295.18MUSD', '', '', '', '85.27KUSD', '0.00USD', '23.47M', '0.04', '1', '0.00USD', '85.27KUSD', 'Finance', 'Finance', 'Financial Conglomerates', 'Financial Conglomerates', 'Hong Boon Sim', 'artiuscapital.com', 'artiuscapital.com', 'New York', '2024', 'BBG01SK9X794'], ['In 4 days', 'Q2 2025', '1.26USD', '1.63BUSD', '30.94BUSD', '0.91%', '25.21', '4.37USD', '1.29BUSD', '6.51BUSD', '283.95M', '0.85', '17.9K', '200 1.10%', '363.69KUSD', '72.01KUSD', 'Health Technology', 'Health Technology', 'Medical Specialties', 'Medical Specialties', 'Padraig Mcdonnell', 'agilent.com', 'agilent.com', 'Santa Clara', '1999', 'BBG000C2V3D6', 'July 16', 'Q2 2025', '0.75USD', '2.96BUSD', '7.27BUSD', '1.41%', '8.28', '3.40USD', '60.00MUSD', '12.18BUSD', '256.77M', '1.86', '13.9K', '+300 +2.21%', '876.55KUSD', '4.32KUSD', 'Non-Energy Minerals', 'Non-Energy Minerals', 'Aluminum', 'Aluminum', 'William F. Oplinger', 'alcoa.com', 'alcoa.com', 'Pittsburgh', '1886', 'BBG00B3T3HD3', '295.18MUSD', '', '', '', '85.27KUSD', '0.00USD', '23.47M', '0.04', '1', '0.00USD', '85.27KUSD', 'Finance', 'Finance', 'Financial Conglomerates', 'Financial Conglomerates', 'Hong Boon Sim', 'artiuscapital.com', 'artiuscapital.com', 'New York', '2024', 'BBG01SK9X794'], ['In 4 days', 'Q2 2025', '1.26USD', '1.63BUSD', '30.94BUSD', '0.91%', '25.21', '4.37USD', '1.29BUSD', '6.51BUSD', '283.95M', '0.85', '17.9K', '200 1.10%', '363.69KUSD', '72.01KUSD', 'Health Technology', 'Health Technology', 'Medical Specialties', 'Medical Specialties', 'Padraig Mcdonnell', 'agilent.com', 'agilent.com', 'Santa Clara', '1999', 'BBG000C2V3D6', 'July 16', 'Q2 2025', '0.75USD', '2.96BUSD', '7.27BUSD', '1.41%', '8.28', '3.40USD', '60.00MUSD', '12.18BUSD', '256.77M', '1.86', '13.9K', '+300 +2.21%', '876.55KUSD', '4.32KUSD', 'Non-Energy Minerals', 'Non-Energy Minerals', 'Aluminum', 'Aluminum', 'William F. Oplinger', 'alcoa.com', 'alcoa.com', 'Pittsburgh', '1886', 'BBG00B3T3HD3', '295.18MUSD', '', '', '', '85.27KUSD', '0.00USD', '23.47M', '0.04', '1', '0.00USD', '85.27KUSD', 'Finance', 'Finance', 'Financial Conglomerates', 'Financial Conglomerates', 'Hong Boon Sim', 'artiuscapital.com', 'artiuscapital.com', 'New York', '2024', 'BBG01SK9X794'], ['In 4 days', 'Q2 2025', '1.26USD', '1.63BUSD', '30.94BUSD', '0.91%', '25.21', '4.37USD', '1.29BUSD', '6.51BUSD', '283.95M', '0.85', '17.9K', '200 1.10%', '363.69KUSD', '72.01KUSD', 'Health Technology', 'Health Technology', 'Medical Specialties', 'Medical Specialties', 'Padraig Mcdonnell', 'agilent.com', 'agilent.com', 'Santa Clara', '1999', 'BBG000C2V3D6', 'July 16', 'Q2 2025', '0.75USD', '2.96BUSD', '7.27BUSD', '1.41%', '8.28', '3.40USD', '60.00MUSD', '12.18BUSD', '256.77M', '1.86', '13.9K', '+300 +2.21%', '876.55KUSD', '4.32KUSD', 'Non-Energy Minerals', 'Non-Energy Minerals', 'Aluminum', 'Aluminum', 'William F. Oplinger', 'alcoa.com', 'alcoa.com', 'Pittsburgh', '1886', 'BBG00B3T3HD3', '295.18MUSD', '', '', '', '85.27KUSD', '0.00USD', '23.47M', '0.04', '1', '0.00USD', '85.27KUSD', 'Finance', 'Finance', 'Financial Conglomerates', 'Financial Conglomerates', 'Hong Boon Sim', 'artiuscapital.com', 'artiuscapital.com', 'New York', '2024', 'BBG01SK9X794'], ['In 4 days', 'Q2 2025', '1.26USD', '1.63BUSD', '30.94BUSD', '0.91%', '25.21', '4.37USD', '1.29BUSD', '6.51BUSD', '283.95M', '0.85', '17.9K', '200 1.10%', '363.69KUSD', '72.01KUSD', 'Health Technology', 'Health Technology', 'Medical Specialties', 'Medical Specialties', 'Padraig Mcdonnell', 'agilent.com', 'agilent.com', 'Santa Clara', '1999', 'BBG000C2V3D6', 'July 16', 'Q2 2025', '0.75USD', '2.96BUSD', '7.27BUSD', '1.41%', '8.28', '3.40USD', '60.00MUSD', '12.18BUSD', '256.77M', '1.86', '13.9K', '+300 +2.21%', '876.55KUSD', '4.32KUSD', 'Non-Energy Minerals', 'Non-Energy Minerals', 'Aluminum', 'Aluminum', 'William F. Oplinger', 'alcoa.com', 'alcoa.com', 'Pittsburgh', '1886', 'BBG00B3T3HD3', '295.18MUSD', '', '', '', '85.27KUSD', '0.00USD', '23.47M', '0.04', '1', '0.00USD', '85.27KUSD', 'Finance', 'Finance', 'Financial Conglomerates', 'Financial Conglomerates', 'Hong Boon Sim', 'artiuscapital.com', 'artiuscapital.com', 'New York', '2024', 'BBG01SK9X794'], ['In 4 days', 'Q2 2025', '1.26USD', '1.63BUSD', '30.94BUSD', '0.91%', '25.21', '4.37USD', '1.29BUSD', '6.51BUSD', '283.95M', '0.85', '17.9K', '200 1.10%', '363.69KUSD', '72.01KUSD', 'Health Technology', 'Health Technology', 'Medical Specialties', 'Medical Specialties', 'Padraig Mcdonnell', 'agilent.com', 'agilent.com', 'Santa Clara', '1999', 'BBG000C2V3D6', 'July 16', 'Q2 2025', '0.75USD', '2.96BUSD', '7.27BUSD', '1.41%', '8.28', '3.40USD', '60.00MUSD', '12.18BUSD', '256.77M', '1.86', '13.9K', '+300 +2.21%', '876.55KUSD', '4.32KUSD', 'Non-Energy Minerals', 'Non-Energy Minerals', 'Aluminum', 'Aluminum', 'William F. Oplinger', 'alcoa.com', 'alcoa.com', 'Pittsburgh', '1886', 'BBG00B3T3HD3', '295.18MUSD', '', '', '', '85.27KUSD', '0.00USD', '23.47M', '0.04', '1', '0.00USD', '85.27KUSD', 'Finance', 'Finance', 'Financial Conglomerates', 'Financial Conglomerates', 'Hong Boon Sim', 'artiuscapital.com', 'artiuscapital.com', 'New York', '2024', 'BBG01SK9X794'], ['In 4 days', 'Q2 2025', '1.26USD', '1.63BUSD', '30.94BUSD', '0.91%', '25.21', '4.37USD', '1.29BUSD', '6.51BUSD', '283.95M', '0.85', '17.9K', '200 1.10%', '363.69KUSD', '72.01KUSD', 'Health Technology', 'Health Technology', 'Medical Specialties', 'Medical Specialties', 'Padraig Mcdonnell', 'agilent.com', 'agilent.com', 'Santa Clara', '1999', 'BBG000C2V3D6', 'July 16', 'Q2 2025', '0.75USD', '2.96BUSD', '7.27BUSD', '1.41%', '8.28', '3.40USD', '60.00MUSD', '12.18BUSD', '256.77M', '1.86', '13.9K', '+300 +2.21%', '876.55KUSD', '4.32KUSD', 'Non-Energy Minerals', 'Non-Energy Minerals', 'Aluminum', 'Aluminum', 'William F. Oplinger', 'alcoa.com', 'alcoa.com', 'Pittsburgh', '1886', 'BBG00B3T3HD3', '295.18MUSD', '', '', '', '85.27KUSD', '0.00USD', '23.47M', '0.04', '1', '0.00USD', '85.27KUSD', 'Finance', 'Finance', 'Financial Conglomerates', 'Financial Conglomerates', 'Hong Boon Sim', 'artiuscapital.com', 'artiuscapital.com', 'New York', '2024', 'BBG01SK9X794'], ['In 4 days', 'Q2 2025', '1.26USD', '1.63BUSD', '30.94BUSD', '0.91%', '25.21', '4.37USD', '1.29BUSD', '6.51BUSD', '283.95M', '0.85', '17.9K', '200 1.10%', '363.69KUSD', '72.01KUSD', 'Health Technology', 'Health Technology', 'Medical Specialties', 'Medical Specialties', 'Padraig Mcdonnell', 'agilent.com', 'agilent.com', 'Santa Clara', '1999', 'BBG000C2V3D6', 'July 16', 'Q2 2025', '0.75USD', '2.96BUSD', '7.27BUSD', '1.41%', '8.28', '3.40USD', '60.00MUSD', '12.18BUSD', '256.77M', '1.86', '13.9K', '+300 +2.21%', '876.55KUSD', '4.32KUSD', 'Non-Energy Minerals', 'Non-Energy Minerals', 'Aluminum', 'Aluminum', 'William F. Oplinger', 'alcoa.com', 'alcoa.com', 'Pittsburgh', '1886', 'BBG00B3T3HD3', '295.18MUSD', '', '', '', '85.27KUSD', '0.00USD', '23.47M', '0.04', '1', '0.00USD', '85.27KUSD', 'Finance', 'Finance', 'Financial Conglomerates', 'Financial Conglomerates', 'Hong Boon Sim', 'artiuscapital.com', 'artiuscapital.com', 'New York', '2024', 'BBG01SK9X794'], ['In 4 days', 'Q2 2025', '1.26USD', '1.63BUSD', '30.94BUSD', '0.91%', '25.21', '4.37USD', '1.29BUSD', '6.51BUSD', '283.95M', '0.85', '17.9K', '200 1.10%', '363.69KUSD', '72.01KUSD', 'Health Technology', 'Health Technology', 'Medical Specialties', 'Medical Specialties', 'Padraig Mcdonnell', 'agilent.com', 'agilent.com', 'Santa Clara', '1999', 'BBG000C2V3D6', 'July 16', 'Q2 2025', '0.75USD', '2.96BUSD', '7.27BUSD', '1.41%', '8.28', '3.40USD', '60.00MUSD', '12.18BUSD', '256.77M', '1.86', '13.9K', '+300 +2.21%', '876.55KUSD', '4.32KUSD', 'Non-Energy Minerals', 'Non-Energy Minerals', 'Aluminum', 'Aluminum', 'William F. Oplinger', 'alcoa.com', 'alcoa.com', 'Pittsburgh', '1886', 'BBG00B3T3HD3', '295.18MUSD', '', '', '', '85.27KUSD', '0.00USD', '23.47M', '0.04', '1', '0.00USD', '85.27KUSD', 'Finance', 'Finance', 'Financial Conglomerates', 'Financial Conglomerates', 'Hong Boon Sim', 'artiuscapital.com', 'artiuscapital.com', 'New York', '2024', 'BBG01SK9X794'], ['In 4 days', 'Q2 2025', '1.26USD', '1.63BUSD', '30.94BUSD', '0.91%', '25.21', '4.37USD', '1.29BUSD', '6.51BUSD', '283.95M', '0.85', '17.9K', '200 1.10%', '363.69KUSD', '72.01KUSD', 'Health Technology', 'Health Technology', 'Medical Specialties', 'Medical Specialties', 'Padraig Mcdonnell', 'agilent.com', 'agilent.com', 'Santa Clara', '1999', 'BBG000C2V3D6', 'July 16', 'Q2 2025', '0.75USD', '2.96BUSD', '7.27BUSD', '1.41%', '8.28', '3.40USD', '60.00MUSD', '12.18BUSD', '256.77M', '1.86', '13.9K', '+300 +2.21%', '876.55KUSD', '4.32KUSD', 'Non-Energy Minerals', 'Non-Energy Minerals', 'Aluminum', 'Aluminum', 'William F. Oplinger', 'alcoa.com', 'alcoa.com', 'Pittsburgh', '1886', 'BBG00B3T3HD3', '295.18MUSD', '', '', '', '85.27KUSD', '0.00USD', '23.47M', '0.04', '1', '0.00USD', '85.27KUSD', 'Finance', 'Finance', 'Financial Conglomerates', 'Financial Conglomerates', 'Hong Boon Sim', 'artiuscapital.com', 'artiuscapital.com', 'New York', '2024', 'BBG01SK9X794'], ['In 4 days', 'Q2 2025', '1.26USD', '1.63BUSD', '30.94BUSD', '0.91%', '25.21', '4.37USD', '1.29BUSD', '6.51BUSD', '283.95M', '0.85', '17.9K', '200 1.10%', '363.69KUSD', '72.01KUSD', 'Health Technology', 'Health Technology', 'Medical Specialties', 'Medical Specialties', 'Padraig Mcdonnell', 'agilent.com', 'agilent.com', 'Santa Clara', '1999', 'BBG000C2V3D6', 'July 16', 'Q2 2025', '0.75USD', '2.96BUSD', '7.27BUSD', '1.41%', '8.28', '3.40USD', '60.00MUSD', '12.18BUSD', '256.77M', '1.86', '13.9K', '+300 +2.21%', '876.55KUSD', '4.32KUSD', 'Non-Energy Minerals', 'Non-Energy Minerals', 'Aluminum', 'Aluminum', 'William F. Oplinger', 'alcoa.com', 'alcoa.com', 'Pittsburgh', '1886', 'BBG00B3T3HD3', '295.18MUSD', '', '', '', '85.27KUSD', '0.00USD', '23.47M', '0.04', '1', '0.00USD', '85.27KUSD', 'Finance', 'Finance', 'Financial Conglomerates', 'Financial Conglomerates', 'Hong Boon Sim', 'artiuscapital.com', 'artiuscapital.com', 'New York', '2024', 'BBG01SK9X794'], ['In 4 days', 'Q2 2025', '1.26USD', '1.63BUSD', '30.94BUSD', '0.91%', '25.21', '4.37USD', '1.29BUSD', '6.51BUSD', '283.95M', '0.85', '17.9K', '200 1.10%', '363.69KUSD', '72.01KUSD', 'Health Technology', 'Health Technology', 'Medical Specialties', 'Medical Specialties', 'Padraig Mcdonnell', 'agilent.com', 'agilent.com', 'Santa Clara', '1999', 'BBG000C2V3D6', 'July 16', 'Q2 2025', '0.75USD', '2.96BUSD', '7.27BUSD', '1.41%', '8.28', '3.40USD', '60.00MUSD', '12.18BUSD', '256.77M', '1.86', '13.9K', '+300 +2.21%', '876.55KUSD', '4.32KUSD', 'Non-Energy Minerals', 'Non-Energy Minerals', 'Aluminum', 'Aluminum', 'William F. Oplinger', 'alcoa.com', 'alcoa.com', 'Pittsburgh', '1886', 'BBG00B3T3HD3', '295.18MUSD', '', '', '', '85.27KUSD', '0.00USD', '23.47M', '0.04', '1', '0.00USD', '85.27KUSD', 'Finance', 'Finance', 'Financial Conglomerates', 'Financial Conglomerates', 'Hong Boon Sim', 'artiuscapital.com', 'artiuscapital.com', 'New York', '2024', 'BBG01SK9X794'], ['In 4 days', 'Q2 2025', '1.26USD', '1.63BUSD', '30.94BUSD', '0.91%', '25.21', '4.37USD', '1.29BUSD', '6.51BUSD', '283.95M', '0.85', '17.9K', '200 1.10%', '363.69KUSD', '72.01KUSD', 'Health Technology', 'Health Technology', 'Medical Specialties', 'Medical Specialties', 'Padraig Mcdonnell', 'agilent.com', 'agilent.com', 'Santa Clara', '1999', 'BBG000C2V3D6', 'July 16', 'Q2 2025', '0.75USD', '2.96BUSD', '7.27BUSD', '1.41%', '8.28', '3.40USD', '60.00MUSD', '12.18BUSD', '256.77M', '1.86', '13.9K', '+300 +2.21%', '876.55KUSD', '4.32KUSD', 'Non-Energy Minerals', 'Non-Energy Minerals', 'Aluminum', 'Aluminum', 'William F. Oplinger', 'alcoa.com', 'alcoa.com', 'Pittsburgh', '1886', 'BBG00B3T3HD3', '295.18MUSD', '', '', '', '85.27KUSD', '0.00USD', '23.47M', '0.04', '1', '0.00USD', '85.27KUSD', 'Finance', 'Finance', 'Financial Conglomerates', 'Financial Conglomerates', 'Hong Boon Sim', 'artiuscapital.com', 'artiuscapital.com', 'New York', '2024', 'BBG01SK9X794'], ['In 4 days', 'Q2 2025', '1.26USD', '1.63BUSD', '30.94BUSD', '0.91%', '25.21', '4.37USD', '1.29BUSD', '6.51BUSD', '283.95M', '0.85', '17.9K', '200 1.10%', '363.69KUSD', '72.01KUSD', 'Health Technology', 'Health Technology', 'Medical Specialties', 'Medical Specialties', 'Padraig Mcdonnell', 'agilent.com', 'agilent.com', 'Santa Clara', '1999', 'BBG000C2V3D6', 'July 16', 'Q2 2025', '0.75USD', '2.96BUSD', '7.27BUSD', '1.41%', '8.28', '3.40USD', '60.00MUSD', '12.18BUSD', '256.77M', '1.86', '13.9K', '+300 +2.21%', '876.55KUSD', '4.32KUSD', 'Non-Energy Minerals', 'Non-Energy Minerals', 'Aluminum', 'Aluminum', 'William F. Oplinger', 'alcoa.com', 'alcoa.com', 'Pittsburgh', '1886', 'BBG00B3T3HD3', '295.18MUSD', '', '', '', '85.27KUSD', '0.00USD', '23.47M', '0.04', '1', '0.00USD', '85.27KUSD', 'Finance', 'Finance', 'Financial Conglomerates', 'Financial Conglomerates', 'Hong Boon Sim', 'artiuscapital.com', 'artiuscapital.com', 'New York', '2024', 'BBG01SK9X794']]\n"
     ]
    }
   ],
   "source": [
    "\n",
    "\n",
    "def sanitize_text(text):\n",
    "    # Remove special unicode characters and extra whitespace\n",
    "    cleaned = re.sub(r'[^\\x00-\\x7F]+', '', text)  # keep only ASCII\n",
    "    return cleaned.strip()\n",
    "company_info = []\n",
    "for i in range(3):\n",
    "    url = f\"https://www.tradingview.com/symbols/{exchange_list[i]}-{link_list[i]}/\"\n",
    "    driver.get(url)\n",
    "    print(url)\n",
    "    time.sleep(3)\n",
    "\n",
    "    records = driver.find_elements(By.CSS_SELECTOR, \".wrapper-QCJM7wcY\")\n",
    "\n",
    "    complete_single_record = []    \n",
    "    for record in records:\n",
    "        children = record.find_elements(By.CLASS_NAME, \"apply-overflow-tooltip\")\n",
    "\n",
    "        for j in range(min(23, len(children))):\n",
    "            raw_text = children[j].text\n",
    "            cleaned_text = sanitize_text(raw_text)\n",
    "            company_info.append(cleaned_text)\n",
    "            complete_single_record.append(company_info)\n",
    "\n",
    "    \n",
    "\n",
    "print(complete_single_record)\n"
   ]
  },
  {
   "cell_type": "code",
   "execution_count": null,
   "id": "b4bebfb5",
   "metadata": {},
   "outputs": [
    {
     "data": {
      "text/plain": [
       "21"
      ]
     },
     "execution_count": 13,
     "metadata": {},
     "output_type": "execute_result"
    }
   ],
   "source": [
    "len(complete_single_record[0])"
   ]
  }
 ],
 "metadata": {
  "kernelspec": {
   "display_name": "venv",
   "language": "python",
   "name": "python3"
  },
  "language_info": {
   "codemirror_mode": {
    "name": "ipython",
    "version": 3
   },
   "file_extension": ".py",
   "mimetype": "text/x-python",
   "name": "python",
   "nbconvert_exporter": "python",
   "pygments_lexer": "ipython3",
   "version": "3.13.3"
  }
 },
 "nbformat": 4,
 "nbformat_minor": 5
}
